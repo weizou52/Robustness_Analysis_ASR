{
 "cells": [
  {
   "cell_type": "code",
   "execution_count": 1,
   "id": "f97c5bf7",
   "metadata": {},
   "outputs": [
    {
     "name": "stderr",
     "output_type": "stream",
     "text": [
      "Reusing dataset librispeech_asr (/home-nfs/goutham/.cache/huggingface/datasets/kresnik___librispeech_asr/clean/2.1.0/16bc288fa237b20821c5b51c8c09426b2689d8c5a889287589cb12aba6705e74)\n"
     ]
    },
    {
     "data": {
      "application/vnd.jupyter.widget-view+json": {
       "model_id": "f10cba36d6164f349f8ae469ccf62061",
       "version_major": 2,
       "version_minor": 0
      },
      "text/plain": [
       "  0%|          | 0/1 [00:00<?, ?it/s]"
      ]
     },
     "metadata": {},
     "output_type": "display_data"
    },
    {
     "name": "stdout",
     "output_type": "stream",
     "text": [
      "Dataset({\n",
      "    features: ['file', 'audio', 'text'],\n",
      "    num_rows: 2620\n",
      "})\n"
     ]
    }
   ],
   "source": [
    "from datasets import load_dataset\n",
    "dset = load_dataset(\"kresnik/librispeech_asr_test\", \"clean\")['test']\n",
    "# dset = load_dataset(\"patrickvonplaten/librispeech_asr_dummy\", \"clean\", split=\"validation\")\n",
    "dset = dset.remove_columns(['speaker_id', 'chapter_id','id'])\n",
    "print(dset)\n",
    "\n",
    "import numpy as np\n",
    "from datasets import load_metric\n",
    "wer_metric = load_metric(\"wer\")"
   ]
  },
  {
   "cell_type": "code",
   "execution_count": 2,
   "id": "eca36cd7",
   "metadata": {},
   "outputs": [
    {
     "name": "stderr",
     "output_type": "stream",
     "text": [
      "Some weights of Wav2Vec2ForCTC were not initialized from the model checkpoint at facebook/wav2vec2-base-960h and are newly initialized: ['wav2vec2.masked_spec_embed']\n",
      "You should probably TRAIN this model on a down-stream task to be able to use it for predictions and inference.\n"
     ]
    }
   ],
   "source": [
    "import torch\n",
    "from transformers import Wav2Vec2Processor, Wav2Vec2ForCTC\n",
    "import matplotlib.pyplot as plt\n",
    "import numpy as np\n",
    "\n",
    "import time\n",
    "import warnings\n",
    "warnings.filterwarnings('ignore', category=UserWarning)\n",
    "\n",
    "w2v_processor = Wav2Vec2Processor.from_pretrained(\"facebook/wav2vec2-base-960h\")\n",
    "w2v_model = Wav2Vec2ForCTC.from_pretrained(\"facebook/wav2vec2-base-960h\").cuda()"
   ]
  },
  {
   "cell_type": "code",
   "execution_count": 3,
   "id": "8453b211",
   "metadata": {},
   "outputs": [
    {
     "name": "stderr",
     "output_type": "stream",
     "text": [
      "Parameter 'function'=<function transcript at 0x7f5cb02608b0> of the transform datasets.arrow_dataset.Dataset._map_single couldn't be hashed properly, a random hash was used instead. Make sure your transforms and parameters are serializable with pickle or dill for the dataset fingerprinting and caching to work. If you reuse this transform, the caching mechanism will consider it to be different from the previous calls and recompute everything. This warning is only showed once. Subsequent hashing failures won't be showed.\n"
     ]
    },
    {
     "data": {
      "application/vnd.jupyter.widget-view+json": {
       "model_id": "0eef08bfaf204a689c4f7f0b985435fb",
       "version_major": 2,
       "version_minor": 0
      },
      "text/plain": [
       "0ex [00:00, ?ex/s]"
      ]
     },
     "metadata": {},
     "output_type": "display_data"
    },
    {
     "data": {
      "image/png": "[encoded data removed]",
      "text/plain": [
       "<Figure size 864x576 with 1 Axes>"
      ]
     },
     "metadata": {
      "needs_background": "light"
     },
     "output_type": "display_data"
    }
   ],
   "source": [
    "avg_loss = [[] for i in range(13)]\n",
    "\n",
    "def transcript(batch):\n",
    "    speech = batch[\"audio\"][\"array\"]\n",
    "    input_values = w2v_processor(speech, sampling_rate = 16000, return_tensors=\"pt\", padding=\"longest\").input_values\n",
    "    input_values = input_values.to(\"cuda\")\n",
    "    \n",
    "    outputs = w2v_model(input_values, output_hidden_states = True)\n",
    "    \n",
    "    hidden_states = outputs.hidden_states\n",
    "    noise = 0.1\n",
    "    corr_inputs = input_values + torch.randn_like(input_values) * noise\n",
    "    corr_outputs = w2v_model(corr_inputs, output_hidden_states = True)\n",
    "    corr_hidden_states = corr_outputs.hidden_states\n",
    "    for i in range(13):\n",
    "        avg_loss[i].append(float(torch.norm(corr_hidden_states[i] - hidden_states[i])) / np.sqrt(torch.numel(hidden_states[i])))\n",
    "        \n",
    "    logits = corr_outputs.logits\n",
    "    pred_ids = torch.argmax(logits, dim=-1)\n",
    "    batch[\"pred_str\"] = w2v_processor.batch_decode(pred_ids)[0]\n",
    "    return batch\n",
    "\n",
    "new_dset = dset.map(transcript, \n",
    "                batch_size = 1,\n",
    "                load_from_cache_file=False)\n",
    "\n",
    "wer = wer_metric.compute(predictions=new_dset[\"pred_str\"], references=new_dset[\"text\"])\n",
    "\n",
    "avg_loss = np.mean(np.array(avg_loss), axis=1)\n",
    "fig = plt.figure(figsize=(12, 8))\n",
    "plt.bar(list(range(0, 13)), list(avg_loss))\n",
    "plt.xlabel(\"Layer\")\n",
    "plt.ylabel(\"L2 loss per neuron\")\n",
    "plt.title(\"Avg L2 loss vs layer\\nNoise = {}, WER = {}\".format(0.1, np.round(wer, 2)), fontsize=16)\n",
    "plt.savefig(\"avg_l2_loss_layers.pdf\")\n",
    "plt.show()"
   ]
  },
  {
   "cell_type": "code",
   "execution_count": 4,
   "id": "8f08aa1a",
   "metadata": {},
   "outputs": [
    {
     "data": {
      "application/vnd.jupyter.widget-view+json": {
       "model_id": "9f09cdf2f9114151b0f5f2efb0844a26",
       "version_major": 2,
       "version_minor": 0
      },
      "text/plain": [
       "0ex [00:00, ?ex/s]"
      ]
     },
     "metadata": {},
     "output_type": "display_data"
    },
    {
     "data": {
      "application/vnd.jupyter.widget-view+json": {
       "model_id": "458d1c7cebaf479b8d49fbaaf315390b",
       "version_major": 2,
       "version_minor": 0
      },
      "text/plain": [
       "0ex [00:00, ?ex/s]"
      ]
     },
     "metadata": {},
     "output_type": "display_data"
    },
    {
     "data": {
      "application/vnd.jupyter.widget-view+json": {
       "model_id": "9f22d65a3aa04082b5e3ac17f0e254de",
       "version_major": 2,
       "version_minor": 0
      },
      "text/plain": [
       "0ex [00:00, ?ex/s]"
      ]
     },
     "metadata": {},
     "output_type": "display_data"
    },
    {
     "data": {
      "application/vnd.jupyter.widget-view+json": {
       "model_id": "92b3d0a206754a518f039310f64b944a",
       "version_major": 2,
       "version_minor": 0
      },
      "text/plain": [
       "0ex [00:00, ?ex/s]"
      ]
     },
     "metadata": {},
     "output_type": "display_data"
    },
    {
     "data": {
      "image/png": "[encoded data removed]",
      "text/plain": [
       "<Figure size 864x720 with 4 Axes>"
      ]
     },
     "metadata": {
      "needs_background": "light"
     },
     "output_type": "display_data"
    }
   ],
   "source": [
    "fig, axes = plt.subplots(2, 2, figsize=(12, 10))\n",
    "\n",
    "for counter, noise in enumerate([.2, .3, .4, .5]):\n",
    "    avg_loss = [[] for i in range(13)]\n",
    "    def transcript(batch):\n",
    "        speech = batch[\"audio\"][\"array\"]\n",
    "        input_values = w2v_processor(speech, sampling_rate = 16000, return_tensors=\"pt\", padding=\"longest\").input_values\n",
    "        input_values = input_values.to(\"cuda\")\n",
    "\n",
    "        outputs = w2v_model(input_values, output_hidden_states = True)\n",
    "\n",
    "        hidden_states = outputs.hidden_states\n",
    "        corr_inputs = input_values + torch.randn_like(input_values) * noise\n",
    "        corr_outputs = w2v_model(corr_inputs, output_hidden_states = True)\n",
    "        corr_hidden_states = corr_outputs.hidden_states\n",
    "        for i in range(13):\n",
    "            avg_loss[i].append(float(torch.norm(corr_hidden_states[i] - hidden_states[i])) / np.sqrt(torch.numel(hidden_states[i])))\n",
    "\n",
    "        logits = corr_outputs.logits\n",
    "        pred_ids = torch.argmax(logits, dim=-1)\n",
    "        batch[\"pred_str\"] = w2v_processor.batch_decode(pred_ids)[0]\n",
    "        return batch\n",
    "\n",
    "    new_dset = dset.map(transcript, \n",
    "                    batch_size = 1,\n",
    "                    load_from_cache_file=False)\n",
    "\n",
    "    wer = wer_metric.compute(predictions=new_dset[\"pred_str\"], references=new_dset[\"text\"])\n",
    "\n",
    "    avg_loss = np.mean(np.array(avg_loss), axis=1)\n",
    "    \n",
    "    axes[counter // 2, counter % 2].bar(list(range(0, 13)), list(avg_loss))\n",
    "    axes[counter // 2, counter % 2].set_title(\"Noise = {}, WER = {}\".format(noise, np.round(wer, 2)))\n",
    "    axes[counter // 2, counter % 2].set_xlabel(\"Layer\")\n",
    "    axes[counter // 2, counter % 2].set_ylabel(\"L2 loss per neuron\")\n",
    "\n",
    "plt.suptitle(\"Avg L2 loss vs layer\", fontsize=16)\n",
    "fig.tight_layout()\n",
    "plt.savefig(\"layer11.pdf\")\n",
    "plt.show()    "
   ]
  },
  {
   "cell_type": "code",
   "execution_count": null,
   "id": "8d5c1296",
   "metadata": {},
   "outputs": [],
   "source": []
  }
 ],
 "metadata": {
  "kernelspec": {
   "display_name": "Python 3 (ipykernel)",
   "language": "python",
   "name": "python3"
  },
  "language_info": {
   "codemirror_mode": {
    "name": "ipython",
    "version": 3
   },
   "file_extension": ".py",
   "mimetype": "text/x-python",
   "name": "python",
   "nbconvert_exporter": "python",
   "pygments_lexer": "ipython3",
   "version": "3.10.4"
  }
 },
 "nbformat": 4,
 "nbformat_minor": 5
}
